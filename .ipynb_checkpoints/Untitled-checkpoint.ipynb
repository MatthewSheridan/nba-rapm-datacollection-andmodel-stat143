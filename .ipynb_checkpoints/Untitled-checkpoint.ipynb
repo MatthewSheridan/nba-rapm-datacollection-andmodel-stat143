{
 "cells": [
  {
   "cell_type": "code",
   "execution_count": 2,
   "id": "1d7389c9",
   "metadata": {},
   "outputs": [],
   "source": [
    "import json\n",
    "\n",
    "import pandas as pd\n",
    "import urllib3\n",
    "\n",
    "pd.set_option('display.max_columns', 500)\n",
    "pd.set_option('display.width', 1000)\n",
    "\n",
    "header_data  = {\n",
    "    'Connection': 'keep-alive',\n",
    "    'Accept': 'application/json, text/plain, */*',\n",
    "    'x-nba-stats-token': 'true',\n",
    "    'User-Agent': 'Mozilla/5.0 (Macintosh; Intel Mac OS X 10_14_6) AppleWebKit/537.36 (KHTML, like Gecko) Chrome/79.0.3945.130 Safari/537.36',\n",
    "    'x-nba-stats-origin': 'stats',\n",
    "    'Sec-Fetch-Site': 'same-origin',\n",
    "    'Sec-Fetch-Mode': 'cors',\n",
    "    'Referer': 'https://stats.nba.com/',\n",
    "    'Accept-Encoding': 'gzip, deflate, br',\n",
    "    'Accept-Language': 'en-US,en;q=0.9',\n",
    "}\n",
    "\n",
    "\n",
    "# endpoints\n",
    "def player_stats_url(season):\n",
    "    return \"https://stats.nba.com/stats/leaguedashplayerstats?College=&Conference=&Country=&DateFrom=&DateTo=&Division=&DraftPick=&DraftYear=&GameScope=&GameSegment=&Height=&LastNGames=0&LeagueID=00&Location=&MeasureType=Base&Month=0&OpponentTeamID=0&Outcome=&PORound=0&PaceAdjust=N&PerMode=Totals&Period=0&PlayerExperience=&PlayerPosition=&PlusMinus=N&Rank=N&Season={0}&SeasonSegment=&SeasonType=Regular+Season&ShotClockRange=&StarterBench=&TeamID=0&TwoWay=0&VsConference=&VsDivision=&Weight=\".format(\n",
    "        season)\n",
    "\n",
    "\n",
    "# Extract json\n",
    "def extract_data(http_client, url):\n",
    "    r = http_client.request('GET', url, headers=header_data)    # Call the GET endpoint\n",
    "    resp = json.loads(r.data)                                   # Convert the response to a json object\n",
    "    results = resp['resultSets'][0]                             # take the first item in the resultsSet (This can be determined by inspection of the json response)\n",
    "    headers = results['headers']                                # take the headers of the response (our column names)\n",
    "    rows = results['rowSet']                                    # take the rows of our response\n",
    "    frame = pd.DataFrame(rows)                                  # convert the rows to a dataframe\n",
    "    frame.columns = headers                                     # set our column names using the  extracted headers\n",
    "    return frame\n",
    "\n",
    "\n",
    "client = urllib3.PoolManager()\n",
    "season = \"2021-22\"\n",
    "\n",
    "frame = extract_data(client, player_stats_url(season))\n",
    "\n",
    "frame.to_csv(\"stats_nba_player_data_{0}.csv\".format(season), index=False)"
   ]
  }
 ],
 "metadata": {
  "kernelspec": {
   "display_name": "Python 3",
   "language": "python",
   "name": "python3"
  },
  "language_info": {
   "codemirror_mode": {
    "name": "ipython",
    "version": 3
   },
   "file_extension": ".py",
   "mimetype": "text/x-python",
   "name": "python",
   "nbconvert_exporter": "python",
   "pygments_lexer": "ipython3",
   "version": "3.8.8"
  }
 },
 "nbformat": 4,
 "nbformat_minor": 5
}
