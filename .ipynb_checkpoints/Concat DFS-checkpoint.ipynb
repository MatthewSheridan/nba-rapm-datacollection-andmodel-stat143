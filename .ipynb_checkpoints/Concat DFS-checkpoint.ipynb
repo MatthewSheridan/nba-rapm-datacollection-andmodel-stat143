{
 "cells": [
  {
   "cell_type": "code",
   "execution_count": null,
   "id": "d8ae60a6",
   "metadata": {},
   "outputs": [],
   "source": [
    "import pandas as pd\n",
    "import glob\n",
    "import os\n",
    "import re\n",
    "\n",
    "lst = []\n",
    "for file in glob.glob('data/*.csv'):\n",
    "    if file.endswith(\"_possessions.csv\"):\n",
    "        lst.append(pd.read_csv(file,header = 0))\n",
    "\n",
    "final_df_first = pd.concat(lst[:245], axis = 0, ignore_index = True)\n",
    "final_df_second = pd.concat(lst[245:], axis = 0, ignore_index = True)\n",
    "\n",
    "final_df_first.to_csv(\"Final_Posession_Stints_first\")\n",
    "final_df_second.to_csv(\"Final_Posession_Stints_second\")"
   ]
  }
 ],
 "metadata": {
  "kernelspec": {
   "display_name": "Python 3",
   "language": "python",
   "name": "python3"
  },
  "language_info": {
   "codemirror_mode": {
    "name": "ipython",
    "version": 3
   },
   "file_extension": ".py",
   "mimetype": "text/x-python",
   "name": "python",
   "nbconvert_exporter": "python",
   "pygments_lexer": "ipython3",
   "version": "3.8.8"
  }
 },
 "nbformat": 4,
 "nbformat_minor": 5
}
